{
 "cells": [
  {
   "cell_type": "code",
   "execution_count": 0,
   "metadata": {
    "colab": {},
    "colab_type": "code",
    "id": "g0z0x0UQ4MDa"
   },
   "outputs": [],
   "source": [
    "import pandas as pd\n"
   ]
  },
  {
   "cell_type": "code",
   "execution_count": 5,
   "metadata": {
    "colab": {
     "base_uri": "https://localhost:8080/",
     "height": 124
    },
    "colab_type": "code",
    "id": "9OaKUZm94iKr",
    "outputId": "366641a5-4ec3-4ded-de1b-7149d4611655"
   },
   "outputs": [
    {
     "name": "stdout",
     "output_type": "stream",
     "text": [
      "Go to this URL in a browser: https://accounts.google.com/o/oauth2/auth?client_id=947318989803-6bn6qk8qdgf4n4g3pfee6491hc0brc4i.apps.googleusercontent.com&redirect_uri=urn%3Aietf%3Awg%3Aoauth%3A2.0%3Aoob&scope=email%20https%3A%2F%2Fwww.googleapis.com%2Fauth%2Fdocs.test%20https%3A%2F%2Fwww.googleapis.com%2Fauth%2Fdrive%20https%3A%2F%2Fwww.googleapis.com%2Fauth%2Fdrive.photos.readonly%20https%3A%2F%2Fwww.googleapis.com%2Fauth%2Fpeopleapi.readonly&response_type=code\n",
      "\n",
      "Enter your authorization code:\n",
      "··········\n",
      "Mounted at /content/drive\n"
     ]
    }
   ],
   "source": [
    "from google.colab import drive\n",
    "\n",
    "drive.mount('/content/drive')"
   ]
  },
  {
   "cell_type": "code",
   "execution_count": 0,
   "metadata": {
    "colab": {},
    "colab_type": "code",
    "id": "oXq8bfDz4iwa"
   },
   "outputs": [],
   "source": [
    "r = pd.read_csv('/content/drive/My Drive/Data Science/review_new.csv')"
   ]
  },
  {
   "cell_type": "code",
   "execution_count": 7,
   "metadata": {
    "colab": {
     "base_uri": "https://localhost:8080/",
     "height": 289
    },
    "colab_type": "code",
    "id": "2_gOx_Xw48xt",
    "outputId": "f6ab414c-b32a-41c8-e05e-fde46c08a5e9"
   },
   "outputs": [
    {
     "data": {
      "text/html": [
       "<div>\n",
       "<style scoped>\n",
       "    .dataframe tbody tr th:only-of-type {\n",
       "        vertical-align: middle;\n",
       "    }\n",
       "\n",
       "    .dataframe tbody tr th {\n",
       "        vertical-align: top;\n",
       "    }\n",
       "\n",
       "    .dataframe thead th {\n",
       "        text-align: right;\n",
       "    }\n",
       "</style>\n",
       "<table border=\"1\" class=\"dataframe\">\n",
       "  <thead>\n",
       "    <tr style=\"text-align: right;\">\n",
       "      <th></th>\n",
       "      <th>review_id</th>\n",
       "      <th>user_id</th>\n",
       "      <th>business_id</th>\n",
       "      <th>stars</th>\n",
       "      <th>date</th>\n",
       "      <th>text</th>\n",
       "      <th>useful</th>\n",
       "      <th>funny</th>\n",
       "      <th>cool</th>\n",
       "    </tr>\n",
       "  </thead>\n",
       "  <tbody>\n",
       "    <tr>\n",
       "      <th>0</th>\n",
       "      <td>x7mDIiDB3jEiPGPHOmDzyw</td>\n",
       "      <td>msQe1u7Z_XuqjGoqhB0J5g</td>\n",
       "      <td>iCQpiavjjPzJ5_3gPD5Ebg</td>\n",
       "      <td>2</td>\n",
       "      <td>2011-02-25</td>\n",
       "      <td>The pizza was okay. Not the best I've had. I p...</td>\n",
       "      <td>0</td>\n",
       "      <td>0</td>\n",
       "      <td>0</td>\n",
       "    </tr>\n",
       "    <tr>\n",
       "      <th>1</th>\n",
       "      <td>dDl8zu1vWPdKGihJrwQbpw</td>\n",
       "      <td>msQe1u7Z_XuqjGoqhB0J5g</td>\n",
       "      <td>pomGBqfbxcqPv14c3XH-ZQ</td>\n",
       "      <td>5</td>\n",
       "      <td>2012-11-13</td>\n",
       "      <td>I love this place! My fiance And I go here atl...</td>\n",
       "      <td>0</td>\n",
       "      <td>0</td>\n",
       "      <td>0</td>\n",
       "    </tr>\n",
       "    <tr>\n",
       "      <th>2</th>\n",
       "      <td>LZp4UX5zK3e-c5ZGSeo3kA</td>\n",
       "      <td>msQe1u7Z_XuqjGoqhB0J5g</td>\n",
       "      <td>jtQARsP6P-LbkyjbO1qNGg</td>\n",
       "      <td>1</td>\n",
       "      <td>2014-10-23</td>\n",
       "      <td>Terrible. Dry corn bread. Rib tips were all fa...</td>\n",
       "      <td>3</td>\n",
       "      <td>1</td>\n",
       "      <td>1</td>\n",
       "    </tr>\n",
       "    <tr>\n",
       "      <th>3</th>\n",
       "      <td>Er4NBWCmCD4nM8_p1GRdow</td>\n",
       "      <td>msQe1u7Z_XuqjGoqhB0J5g</td>\n",
       "      <td>elqbBhBfElMNSrjFqW3now</td>\n",
       "      <td>2</td>\n",
       "      <td>2011-02-25</td>\n",
       "      <td>Back in 2005-2007 this place was my FAVORITE t...</td>\n",
       "      <td>2</td>\n",
       "      <td>0</td>\n",
       "      <td>0</td>\n",
       "    </tr>\n",
       "    <tr>\n",
       "      <th>4</th>\n",
       "      <td>jsDu6QEJHbwP2Blom1PLCA</td>\n",
       "      <td>msQe1u7Z_XuqjGoqhB0J5g</td>\n",
       "      <td>Ums3gaP2qM3W1XcA5r6SsQ</td>\n",
       "      <td>5</td>\n",
       "      <td>2014-09-05</td>\n",
       "      <td>Delicious healthy food. The steak is amazing. ...</td>\n",
       "      <td>0</td>\n",
       "      <td>0</td>\n",
       "      <td>0</td>\n",
       "    </tr>\n",
       "  </tbody>\n",
       "</table>\n",
       "</div>"
      ],
      "text/plain": [
       "                review_id                 user_id             business_id  \\\n",
       "0  x7mDIiDB3jEiPGPHOmDzyw  msQe1u7Z_XuqjGoqhB0J5g  iCQpiavjjPzJ5_3gPD5Ebg   \n",
       "1  dDl8zu1vWPdKGihJrwQbpw  msQe1u7Z_XuqjGoqhB0J5g  pomGBqfbxcqPv14c3XH-ZQ   \n",
       "2  LZp4UX5zK3e-c5ZGSeo3kA  msQe1u7Z_XuqjGoqhB0J5g  jtQARsP6P-LbkyjbO1qNGg   \n",
       "3  Er4NBWCmCD4nM8_p1GRdow  msQe1u7Z_XuqjGoqhB0J5g  elqbBhBfElMNSrjFqW3now   \n",
       "4  jsDu6QEJHbwP2Blom1PLCA  msQe1u7Z_XuqjGoqhB0J5g  Ums3gaP2qM3W1XcA5r6SsQ   \n",
       "\n",
       "   stars        date                                               text  \\\n",
       "0      2  2011-02-25  The pizza was okay. Not the best I've had. I p...   \n",
       "1      5  2012-11-13  I love this place! My fiance And I go here atl...   \n",
       "2      1  2014-10-23  Terrible. Dry corn bread. Rib tips were all fa...   \n",
       "3      2  2011-02-25  Back in 2005-2007 this place was my FAVORITE t...   \n",
       "4      5  2014-09-05  Delicious healthy food. The steak is amazing. ...   \n",
       "\n",
       "   useful  funny  cool  \n",
       "0       0      0     0  \n",
       "1       0      0     0  \n",
       "2       3      1     1  \n",
       "3       2      0     0  \n",
       "4       0      0     0  "
      ]
     },
     "execution_count": 7,
     "metadata": {
      "tags": []
     },
     "output_type": "execute_result"
    }
   ],
   "source": [
    "r.head(5)"
   ]
  },
  {
   "cell_type": "code",
   "execution_count": 8,
   "metadata": {
    "colab": {
     "base_uri": "https://localhost:8080/",
     "height": 35
    },
    "colab_type": "code",
    "id": "sJxsfhnk5ryb",
    "outputId": "2cd7dff1-f353-478a-9c41-65c9b2933f7c"
   },
   "outputs": [
    {
     "data": {
      "text/plain": [
       "(1000000, 9)"
      ]
     },
     "execution_count": 8,
     "metadata": {
      "tags": []
     },
     "output_type": "execute_result"
    }
   ],
   "source": [
    "r_new = pd.DataFrame(r)\n",
    "r1 = r_new\n",
    "r.drop(r.index[1000000:], axis=0, inplace=True)\n",
    "r.shape"
   ]
  },
  {
   "cell_type": "code",
   "execution_count": 9,
   "metadata": {
    "colab": {
     "base_uri": "https://localhost:8080/",
     "height": 509
    },
    "colab_type": "code",
    "id": "k3-voQEy58IH",
    "outputId": "1e558f35-c975-4080-ff82-a8af9e499b0c"
   },
   "outputs": [
    {
     "data": {
      "text/html": [
       "<div>\n",
       "<style scoped>\n",
       "    .dataframe tbody tr th:only-of-type {\n",
       "        vertical-align: middle;\n",
       "    }\n",
       "\n",
       "    .dataframe tbody tr th {\n",
       "        vertical-align: top;\n",
       "    }\n",
       "\n",
       "    .dataframe thead th {\n",
       "        text-align: right;\n",
       "    }\n",
       "</style>\n",
       "<table border=\"1\" class=\"dataframe\">\n",
       "  <thead>\n",
       "    <tr style=\"text-align: right;\">\n",
       "      <th></th>\n",
       "      <th>business_id</th>\n",
       "      <th>stars</th>\n",
       "      <th>date</th>\n",
       "      <th>text</th>\n",
       "      <th>sentiment</th>\n",
       "    </tr>\n",
       "  </thead>\n",
       "  <tbody>\n",
       "    <tr>\n",
       "      <th>0</th>\n",
       "      <td>iCQpiavjjPzJ5_3gPD5Ebg</td>\n",
       "      <td>2</td>\n",
       "      <td>2011-02-25</td>\n",
       "      <td>The pizza was okay. Not the best I've had. I p...</td>\n",
       "      <td>0</td>\n",
       "    </tr>\n",
       "    <tr>\n",
       "      <th>1</th>\n",
       "      <td>pomGBqfbxcqPv14c3XH-ZQ</td>\n",
       "      <td>5</td>\n",
       "      <td>2012-11-13</td>\n",
       "      <td>I love this place! My fiance And I go here atl...</td>\n",
       "      <td>1</td>\n",
       "    </tr>\n",
       "    <tr>\n",
       "      <th>2</th>\n",
       "      <td>jtQARsP6P-LbkyjbO1qNGg</td>\n",
       "      <td>1</td>\n",
       "      <td>2014-10-23</td>\n",
       "      <td>Terrible. Dry corn bread. Rib tips were all fa...</td>\n",
       "      <td>0</td>\n",
       "    </tr>\n",
       "    <tr>\n",
       "      <th>3</th>\n",
       "      <td>elqbBhBfElMNSrjFqW3now</td>\n",
       "      <td>2</td>\n",
       "      <td>2011-02-25</td>\n",
       "      <td>Back in 2005-2007 this place was my FAVORITE t...</td>\n",
       "      <td>0</td>\n",
       "    </tr>\n",
       "    <tr>\n",
       "      <th>4</th>\n",
       "      <td>Ums3gaP2qM3W1XcA5r6SsQ</td>\n",
       "      <td>5</td>\n",
       "      <td>2014-09-05</td>\n",
       "      <td>Delicious healthy food. The steak is amazing. ...</td>\n",
       "      <td>1</td>\n",
       "    </tr>\n",
       "    <tr>\n",
       "      <th>5</th>\n",
       "      <td>vgfcTvK81oD4r50NMjU2Ag</td>\n",
       "      <td>1</td>\n",
       "      <td>2011-02-25</td>\n",
       "      <td>This place sucks. The customer service is horr...</td>\n",
       "      <td>0</td>\n",
       "    </tr>\n",
       "    <tr>\n",
       "      <th>6</th>\n",
       "      <td>AxeQEz3-s9_1TyIo-G7UQw</td>\n",
       "      <td>5</td>\n",
       "      <td>2011-10-10</td>\n",
       "      <td>If you like Thai food, you have to try the ori...</td>\n",
       "      <td>1</td>\n",
       "    </tr>\n",
       "    <tr>\n",
       "      <th>7</th>\n",
       "      <td>zdE82PiD6wquvjYLyhOJNA</td>\n",
       "      <td>5</td>\n",
       "      <td>2012-04-18</td>\n",
       "      <td>AMAZING!!!\\r\\n\\r\\n I was referred here by a fr...</td>\n",
       "      <td>1</td>\n",
       "    </tr>\n",
       "    <tr>\n",
       "      <th>8</th>\n",
       "      <td>EAwh1OmG6t6p3nRaZOW_AA</td>\n",
       "      <td>4</td>\n",
       "      <td>2011-02-25</td>\n",
       "      <td>Ribs = amazing\\r\\n2 hour wait time= not so ama...</td>\n",
       "      <td>1</td>\n",
       "    </tr>\n",
       "    <tr>\n",
       "      <th>9</th>\n",
       "      <td>atVh8viqTj-sqDJ35tAYVg</td>\n",
       "      <td>2</td>\n",
       "      <td>2012-11-09</td>\n",
       "      <td>Food is pretty good, not gonna lie. BUT you ha...</td>\n",
       "      <td>0</td>\n",
       "    </tr>\n",
       "    <tr>\n",
       "      <th>10</th>\n",
       "      <td>yFumR3CWzpfvTH2FCthvVw</td>\n",
       "      <td>5</td>\n",
       "      <td>2016-06-15</td>\n",
       "      <td>I have been an Emerald Club member for a numbe...</td>\n",
       "      <td>1</td>\n",
       "    </tr>\n",
       "    <tr>\n",
       "      <th>11</th>\n",
       "      <td>UBv8heCQR0RPnUQG0zkXIQ</td>\n",
       "      <td>1</td>\n",
       "      <td>2016-09-23</td>\n",
       "      <td>The score should be negative. Its HORRIBLE. Th...</td>\n",
       "      <td>0</td>\n",
       "    </tr>\n",
       "    <tr>\n",
       "      <th>12</th>\n",
       "      <td>hdgYnadxg0GANhWOJabr2g</td>\n",
       "      <td>5</td>\n",
       "      <td>2014-08-23</td>\n",
       "      <td>I went there twice and I am pretty happy with ...</td>\n",
       "      <td>1</td>\n",
       "    </tr>\n",
       "    <tr>\n",
       "      <th>13</th>\n",
       "      <td>yEOu75XjwczngvWWlr0M_A</td>\n",
       "      <td>4</td>\n",
       "      <td>2016-02-17</td>\n",
       "      <td>Great for the price, only $25 for long hair! W...</td>\n",
       "      <td>1</td>\n",
       "    </tr>\n",
       "    <tr>\n",
       "      <th>14</th>\n",
       "      <td>f5O7v_X_jCg2itqacRfxhg</td>\n",
       "      <td>5</td>\n",
       "      <td>2017-10-12</td>\n",
       "      <td>Sansotei serves some top notch ramen. They tak...</td>\n",
       "      <td>1</td>\n",
       "    </tr>\n",
       "  </tbody>\n",
       "</table>\n",
       "</div>"
      ],
      "text/plain": [
       "               business_id  stars        date  \\\n",
       "0   iCQpiavjjPzJ5_3gPD5Ebg      2  2011-02-25   \n",
       "1   pomGBqfbxcqPv14c3XH-ZQ      5  2012-11-13   \n",
       "2   jtQARsP6P-LbkyjbO1qNGg      1  2014-10-23   \n",
       "3   elqbBhBfElMNSrjFqW3now      2  2011-02-25   \n",
       "4   Ums3gaP2qM3W1XcA5r6SsQ      5  2014-09-05   \n",
       "5   vgfcTvK81oD4r50NMjU2Ag      1  2011-02-25   \n",
       "6   AxeQEz3-s9_1TyIo-G7UQw      5  2011-10-10   \n",
       "7   zdE82PiD6wquvjYLyhOJNA      5  2012-04-18   \n",
       "8   EAwh1OmG6t6p3nRaZOW_AA      4  2011-02-25   \n",
       "9   atVh8viqTj-sqDJ35tAYVg      2  2012-11-09   \n",
       "10  yFumR3CWzpfvTH2FCthvVw      5  2016-06-15   \n",
       "11  UBv8heCQR0RPnUQG0zkXIQ      1  2016-09-23   \n",
       "12  hdgYnadxg0GANhWOJabr2g      5  2014-08-23   \n",
       "13  yEOu75XjwczngvWWlr0M_A      4  2016-02-17   \n",
       "14  f5O7v_X_jCg2itqacRfxhg      5  2017-10-12   \n",
       "\n",
       "                                                 text  sentiment  \n",
       "0   The pizza was okay. Not the best I've had. I p...          0  \n",
       "1   I love this place! My fiance And I go here atl...          1  \n",
       "2   Terrible. Dry corn bread. Rib tips were all fa...          0  \n",
       "3   Back in 2005-2007 this place was my FAVORITE t...          0  \n",
       "4   Delicious healthy food. The steak is amazing. ...          1  \n",
       "5   This place sucks. The customer service is horr...          0  \n",
       "6   If you like Thai food, you have to try the ori...          1  \n",
       "7   AMAZING!!!\\r\\n\\r\\n I was referred here by a fr...          1  \n",
       "8   Ribs = amazing\\r\\n2 hour wait time= not so ama...          1  \n",
       "9   Food is pretty good, not gonna lie. BUT you ha...          0  \n",
       "10  I have been an Emerald Club member for a numbe...          1  \n",
       "11  The score should be negative. Its HORRIBLE. Th...          0  \n",
       "12  I went there twice and I am pretty happy with ...          1  \n",
       "13  Great for the price, only $25 for long hair! W...          1  \n",
       "14  Sansotei serves some top notch ramen. They tak...          1  "
      ]
     },
     "execution_count": 9,
     "metadata": {
      "tags": []
     },
     "output_type": "execute_result"
    }
   ],
   "source": [
    "r.drop(labels=['review_id','user_id','useful','funny','cool'],axis=1, inplace=True)\n",
    "r['sentiment'] = r['stars'].apply(lambda star: 0 if star<3 else 1)\n",
    "r.head(15)"
   ]
  },
  {
   "cell_type": "code",
   "execution_count": 10,
   "metadata": {
    "colab": {
     "base_uri": "https://localhost:8080/",
     "height": 121
    },
    "colab_type": "code",
    "id": "Rzl9RLlx6B8Q",
    "outputId": "982fa7e2-b2b8-4bd6-bc50-37cff5d9b9e5"
   },
   "outputs": [
    {
     "data": {
      "text/plain": [
       "Int64Index([366270, 366271, 366272, 366273, 366274, 366276, 366277, 366278,\n",
       "            366280, 366281,\n",
       "            ...\n",
       "            999987, 999988, 999990, 999991, 999992, 999993, 999994, 999995,\n",
       "            999997, 999998],\n",
       "           dtype='int64', length=464092)"
      ]
     },
     "execution_count": 10,
     "metadata": {
      "tags": []
     },
     "output_type": "execute_result"
    }
   ],
   "source": [
    "r[r['sentiment']==0].count()\n",
    "r[r['sentiment']==1].count()\n",
    "id = r[r['sentiment']==1].index[-464092:]\n",
    "id"
   ]
  },
  {
   "cell_type": "code",
   "execution_count": 11,
   "metadata": {
    "colab": {
     "base_uri": "https://localhost:8080/",
     "height": 55
    },
    "colab_type": "code",
    "id": "doi_F_6t6L8b",
    "outputId": "5594ea31-8a20-4f29-e9f2-50ef129cfb66"
   },
   "outputs": [
    {
     "data": {
      "text/plain": [
       "\"The pizza was okay. Not the best I've had. I prefer Biaggio's on Flamingo / Fort Apache. The chef there can make a MUCH better NY style pizza. The pizzeria @ Cosmo was over priced for the quality and lack of personality in the food. Biaggio's is a much better pick if youre going for italian - family owned, home made recipes, people that actually CARE if you like their food. You dont get that at a pizzeria in a casino. I dont care what you say...\""
      ]
     },
     "execution_count": 11,
     "metadata": {
      "tags": []
     },
     "output_type": "execute_result"
    }
   ],
   "source": [
    "r.drop(id, axis = 0, inplace = True)\n",
    "r[r['sentiment']==0].count()\n",
    "labels = r['stars']\n",
    "labels = labels.tolist()\n",
    "para = r['text']\n",
    "para = para.tolist()\n",
    "para[0]"
   ]
  },
  {
   "cell_type": "code",
   "execution_count": 0,
   "metadata": {
    "colab": {},
    "colab_type": "code",
    "id": "1aYKc5jX6UsG"
   },
   "outputs": [],
   "source": [
    "from gensim.models import Doc2Vec\n",
    "from gensim.models.doc2vec import LabeledSentence\n",
    "from gensim.models.doc2vec import TaggedDocument\n",
    "import gensim.models.doc2vec\n",
    "from gensim.models import KeyedVectors\n",
    "\n",
    "import random"
   ]
  },
  {
   "cell_type": "code",
   "execution_count": 13,
   "metadata": {
    "colab": {
     "base_uri": "https://localhost:8080/",
     "height": 69
    },
    "colab_type": "code",
    "id": "rnAaquaA6ZBb",
    "outputId": "91f6c4a2-703e-4865-afc7-cb48b9384b6e"
   },
   "outputs": [
    {
     "name": "stdout",
     "output_type": "stream",
     "text": [
      "[nltk_data] Downloading package stopwords to /root/nltk_data...\n",
      "[nltk_data]   Unzipping corpora/stopwords.zip.\n"
     ]
    },
    {
     "data": {
      "text/plain": [
       "True"
      ]
     },
     "execution_count": 13,
     "metadata": {
      "tags": []
     },
     "output_type": "execute_result"
    }
   ],
   "source": [
    "import nltk\n",
    "nltk.download('stopwords')"
   ]
  },
  {
   "cell_type": "code",
   "execution_count": 0,
   "metadata": {
    "colab": {},
    "colab_type": "code",
    "id": "73lhF1Gv6bVu"
   },
   "outputs": [],
   "source": [
    "from nltk.corpus import stopwords \n",
    "from nltk.tokenize import word_tokenize\n",
    "from nltk.tokenize import RegexpTokenizer\n",
    "import re\n",
    "\n",
    "stop_words = set(stopwords.words('english'))"
   ]
  },
  {
   "cell_type": "code",
   "execution_count": 0,
   "metadata": {
    "colab": {},
    "colab_type": "code",
    "id": "wy-bFRmq6foz"
   },
   "outputs": [],
   "source": [
    "class LabeledLineSentence(object):\n",
    "    def __init__(self, para, labels):\n",
    "        self.para = para\n",
    "        self.labels = labels\n",
    "        \n",
    "    def __iter__(self):\n",
    "        p_idx, n_idx = -1, -1\n",
    "        for idx, p in enumerate(self.para):\n",
    "          sentence = p.lower()\n",
    "          tokenizer = RegexpTokenizer(r\"\\w+\")\n",
    "          word_tokens = tokenizer.tokenize(sentence) \n",
    "          filtered_sentence = []   \n",
    "          for w in word_tokens: \n",
    "            if w not in stop_words: \n",
    "              filtered_sentence.append(w)\n",
    "          if labels[idx] < 3:\n",
    "            prefix = 'negative'\n",
    "            n_idx += 1\n",
    "            yield TaggedDocument(words=filtered_sentence,tags=[prefix + '_%s' % n_idx])\n",
    "          else:\n",
    "            prefix = 'positive'\n",
    "            p_idx += 1\n",
    "            yield TaggedDocument(words=filtered_sentence,tags=[prefix + '_%s' % p_idx])\n",
    "\n",
    "            \n",
    "    def to_array(self):\n",
    "        self.sentences = []\n",
    "        p_idx, n_idx = -1, -1\n",
    "        for idx, p in enumerate(self.para):            \n",
    "          sentence = p.lower()\n",
    "          tokenizer = RegexpTokenizer(r\"\\w+\")\n",
    "          word_tokens = tokenizer.tokenize(sentence) \n",
    "          filtered_sentence = []   \n",
    "          for w in word_tokens: \n",
    "            if w not in stop_words: \n",
    "              filtered_sentence.append(w)\n",
    "          if labels[idx] < 3:\n",
    "            prefix = 'negative'\n",
    "            n_idx += 1\n",
    "            self.sentences.append(TaggedDocument(words=filtered_sentence,tags=[prefix + '_%s' % n_idx]))\n",
    "          else:\n",
    "            prefix = 'positive'\n",
    "            p_idx += 1\n",
    "            self.sentences.append(TaggedDocument(words=filtered_sentence,tags=[prefix + '_%s' % p_idx]))\n",
    "        return self.sentences\n",
    "    \n",
    "    def sentences_perm(self):\n",
    "        shuffled = list(self.sentences)\n",
    "        random.shuffle(shuffled)\n",
    "        return shuffled            "
   ]
  },
  {
   "cell_type": "code",
   "execution_count": 0,
   "metadata": {
    "colab": {},
    "colab_type": "code",
    "id": "6EWslDKf6hRY"
   },
   "outputs": [],
   "source": [
    "it = LabeledLineSentence(para, labels)"
   ]
  },
  {
   "cell_type": "code",
   "execution_count": 0,
   "metadata": {
    "colab": {},
    "colab_type": "code",
    "id": "GgTskcxm6ki6"
   },
   "outputs": [],
   "source": [
    "model = gensim.models.Doc2Vec(vector_size=100, window=10, min_count=4, workers=7, sample=1e-4, negative=5) # use fixed learning rate"
   ]
  },
  {
   "cell_type": "code",
   "execution_count": 0,
   "metadata": {
    "colab": {},
    "colab_type": "code",
    "id": "czSEIz6D6oM9"
   },
   "outputs": [],
   "source": [
    "model.build_vocab(it.to_array())"
   ]
  },
  {
   "cell_type": "code",
   "execution_count": 0,
   "metadata": {
    "colab": {},
    "colab_type": "code",
    "id": "z3710XKf6sdX"
   },
   "outputs": [],
   "source": [
    "for epoch in range(2):\n",
    "  model.train(it.sentences_perm(), total_examples=model.corpus_count, epochs = 10)\n",
    "  #print (model.running_training_loss)"
   ]
  },
  {
   "cell_type": "code",
   "execution_count": 20,
   "metadata": {
    "colab": {
     "base_uri": "https://localhost:8080/",
     "height": 453
    },
    "colab_type": "code",
    "id": "qrNX1M4U7MBQ",
    "outputId": "95150a3f-faf1-49cf-991f-6786e9221cf7"
   },
   "outputs": [
    {
     "name": "stderr",
     "output_type": "stream",
     "text": [
      "/usr/local/lib/python3.6/dist-packages/gensim/matutils.py:737: FutureWarning: Conversion of the second argument of issubdtype from `int` to `np.signedinteger` is deprecated. In future, it will be treated as `np.int64 == np.dtype(int).type`.\n",
      "  if np.issubdtype(vec.dtype, np.int):\n",
      "/usr/local/lib/python3.6/dist-packages/sklearn/linear_model/logistic.py:433: FutureWarning: Default solver will be changed to 'lbfgs' in 0.22. Specify a solver to silence this warning.\n",
      "  FutureWarning)\n",
      "/usr/local/lib/python3.6/dist-packages/ipykernel_launcher.py:36: SettingWithCopyWarning: \n",
      "A value is trying to be set on a copy of a slice from a DataFrame.\n",
      "Try using .loc[row_indexer,col_indexer] = value instead\n",
      "\n",
      "See the caveats in the documentation: http://pandas.pydata.org/pandas-docs/stable/indexing.html#indexing-view-versus-copy\n"
     ]
    },
    {
     "name": "stdout",
     "output_type": "stream",
     "text": [
      "['spent', 'week', 'playing', 'slots', 'keno', 'emi', 'keno', 'queen', 'best', 'love', 'playing', 'keno', 'staff', 'wonderful', 'mahalo', 'stan']\n",
      "(100,)\n",
      "sentiment is:  1\n",
      "['came', 'back', 'nov', '2015', 'ben', 'super', 'ask', 'sit', 'section', 'makes', 'best', 'rolls', 'great', 'service', 'great', 'food']\n",
      "(100,)\n",
      "sentiment is:  1\n",
      "['3', 'great', 'meal', 'super', 'food', 'great', 'service', 'great', 'value', 'money', 'always', 'left', 'doggy', 'bag', 'sorry', 'dog', 'get']\n",
      "(100,)\n",
      "sentiment is:  1\n",
      "['visited', 'spa', 'numerous', 'times', 'last', 'several', 'years', 'reason', 'returning', 'staff', 'exceptionally', 'professional', 'courteous', 'genuinely', 'make', 'one', 'feel', 'like', 'part', 'family', 'amenities', 'cut', 'back', 'unfortunate', 'staff', 'makes', 'hospitality', 'definitely', 'return']\n",
      "(100,)\n",
      "sentiment is:  1\n",
      "['dined', 'last', 'night', 'presently', 'surprised', 'good', 'service', 'best', 'awesome', 'american', 'burger', 'good', 'plentiful', 'beef', 'patty', 'cooked', 'ordered', 'fresh', 'ripe', 'red', 'tomatoes', 'shredded', 'lettuce', 'red', 'onions', 'dill', 'pickles', 'average', 'garden', 'variety', 'burger', 'recommend', 'bad', 'daddy', 'one', 'looking', 'ho', 'hum', 'burger']\n",
      "(100,)\n",
      "sentiment is:  1\n"
     ]
    }
   ],
   "source": [
    "model.save('./small_data_model.d2v')\n",
    "model['positive_2558']\n",
    "#print (model.most_similar())\n",
    "word_vec = model.wv\n",
    "doc_vec = model.docvecs\n",
    "word_vec.most_similar(\"good\")\n",
    "type(doc_vec)\n",
    "len(doc_vec)\n",
    "word_vec['pizza']\n",
    "len(model.docvecs[5])\n",
    "model = Doc2Vec.load('./small_data_model.d2v')\n",
    "model['positive_1']\n",
    "import numpy\n",
    "\n",
    "train_arrays = numpy.zeros((535908, 100))\n",
    "train_labels = numpy.zeros(535908)\n",
    "\n",
    "for i in range(267954):\n",
    "    prefix_train_pos = 'positive_' + str(i)\n",
    "    prefix_train_neg = 'negative_' + str(i)\n",
    "    train_arrays[i] = model[prefix_train_pos]\n",
    "    train_arrays[267954 + i] = model[prefix_train_neg]\n",
    "    train_labels[i] = 1\n",
    "    train_labels[267954 + i] = 0\n",
    "train_arrays\n",
    "from sklearn.utils import shuffle\n",
    "s_train_arrays, s_train_labels = shuffle(train_arrays, train_labels)\n",
    "from sklearn.linear_model import LogisticRegression\n",
    "import random\n",
    "classifier = LogisticRegression()\n",
    "classifier.fit(s_train_arrays, s_train_labels)\n",
    "classifier.score(s_train_arrays, s_train_labels)\n",
    "classifier.predict(model['positive_4'].reshape(1,-1))\n",
    "r_new.head(5)\n",
    "r1 = r1.iloc[5896996:]\n",
    "r1['sentiment'] = r1['stars'].apply(lambda star: 0 if star<3 else 1)\n",
    "def process_row(arow):\n",
    "  sentence = arow.lower()\n",
    "  tokenizer = RegexpTokenizer(r\"\\w+\")\n",
    "  word_tokens = tokenizer.tokenize(sentence) \n",
    "  filtered_sentence = []   \n",
    "  for w in word_tokens: \n",
    "    if w not in stop_words: \n",
    "      filtered_sentence.append(w)\n",
    "  return filtered_sentence\n",
    "ant = 0\n",
    "for ind, row in r1.head(5).iterrows():\n",
    "  print (process_row(row['text']))\n",
    "  words = process_row(row['text'])\n",
    "  ivec = model.infer_vector(doc_words=words)\n",
    "  print (ivec.shape)\n",
    "  print ('sentiment is: ',r1.loc[ind,['sentiment']].sentiment)\n",
    "  if ant > 3:\n",
    "    break\n",
    "  ant += 1\n",
    "vec = []\n",
    "sent = []\n",
    "for ind, row in r1.iterrows():\n",
    "  words = process_row(row['text'])\n",
    "  ivec = model.infer_vector(doc_words=words)\n",
    "  ivec = ivec.reshape(1,-1)\n",
    "  vec.append(ivec)\n",
    "  obj = r1.loc[ind,['sentiment']]\n",
    "  sent.append(obj.sentiment)"
   ]
  },
  {
   "cell_type": "code",
   "execution_count": 21,
   "metadata": {
    "colab": {
     "base_uri": "https://localhost:8080/",
     "height": 35
    },
    "colab_type": "code",
    "id": "Niio_fHjLntO",
    "outputId": "bd48086d-c22a-4b88-cf7a-2a48b6cd9c2d"
   },
   "outputs": [
    {
     "data": {
      "text/plain": [
       "0.78795"
      ]
     },
     "execution_count": 21,
     "metadata": {
      "tags": []
     },
     "output_type": "execute_result"
    }
   ],
   "source": [
    "for s in sent:\n",
    "  s.reshape(-1,1)\n",
    "total, correct = 0, 0\n",
    "for index, v in enumerate(vec):\n",
    "  score = int(classifier.predict(v))\n",
    "  total += 1\n",
    "  if score == sent[index]:\n",
    "    correct += 1\n",
    "# testing accuracy for logistic regression\n",
    "correct / total"
   ]
  },
  {
   "cell_type": "code",
   "execution_count": 25,
   "metadata": {
    "colab": {
     "base_uri": "https://localhost:8080/",
     "height": 35
    },
    "colab_type": "code",
    "id": "TVTFH2ptVDu0",
    "outputId": "f4da547e-e0e3-4fad-bb37-ef99ce53382a"
   },
   "outputs": [
    {
     "data": {
      "text/plain": [
       "(1, 100)"
      ]
     },
     "execution_count": 25,
     "metadata": {
      "tags": []
     },
     "output_type": "execute_result"
    }
   ],
   "source": [
    "vec[0].shape"
   ]
  },
  {
   "cell_type": "code",
   "execution_count": 26,
   "metadata": {
    "colab": {
     "base_uri": "https://localhost:8080/",
     "height": 35
    },
    "colab_type": "code",
    "id": "JB9N50_FVQHR",
    "outputId": "785c13ab-c8e4-4ffe-cc94-6486e7984d7a"
   },
   "outputs": [
    {
     "data": {
      "text/plain": [
       "100000"
      ]
     },
     "execution_count": 26,
     "metadata": {
      "tags": []
     },
     "output_type": "execute_result"
    }
   ],
   "source": [
    "len(vec)"
   ]
  },
  {
   "cell_type": "code",
   "execution_count": 27,
   "metadata": {
    "colab": {
     "base_uri": "https://localhost:8080/",
     "height": 35
    },
    "colab_type": "code",
    "id": "0LTuKAZbVRu0",
    "outputId": "38a2307e-7bed-4047-ed1f-c7b2fc1cc73d"
   },
   "outputs": [
    {
     "data": {
      "text/plain": [
       "1"
      ]
     },
     "execution_count": 27,
     "metadata": {
      "tags": []
     },
     "output_type": "execute_result"
    }
   ],
   "source": [
    "sent[0]\n"
   ]
  },
  {
   "cell_type": "code",
   "execution_count": 28,
   "metadata": {
    "colab": {
     "base_uri": "https://localhost:8080/",
     "height": 35
    },
    "colab_type": "code",
    "id": "m-sqLrCwVUNN",
    "outputId": "c08c1b74-d602-4420-df56-fc14c94ac8a9"
   },
   "outputs": [
    {
     "data": {
      "text/plain": [
       "100000"
      ]
     },
     "execution_count": 28,
     "metadata": {
      "tags": []
     },
     "output_type": "execute_result"
    }
   ],
   "source": [
    "len(sent)"
   ]
  },
  {
   "cell_type": "code",
   "execution_count": 29,
   "metadata": {
    "colab": {
     "base_uri": "https://localhost:8080/",
     "height": 35
    },
    "colab_type": "code",
    "id": "zJmDIwMaVWLD",
    "outputId": "249d77ee-24b0-4b09-e5fd-127d07ef8591"
   },
   "outputs": [
    {
     "data": {
      "text/plain": [
       "(100000, 10)"
      ]
     },
     "execution_count": 29,
     "metadata": {
      "tags": []
     },
     "output_type": "execute_result"
    }
   ],
   "source": [
    "r1.shape"
   ]
  },
  {
   "cell_type": "code",
   "execution_count": 0,
   "metadata": {
    "colab": {},
    "colab_type": "code",
    "id": "GpXMg18iVeYm"
   },
   "outputs": [],
   "source": [
    "for s in sent:\n",
    "  s.reshape(-1,1)"
   ]
  },
  {
   "cell_type": "code",
   "execution_count": 0,
   "metadata": {
    "colab": {},
    "colab_type": "code",
    "id": "ExylWUu7Vp8x"
   },
   "outputs": [],
   "source": [
    "ivec = model.infer_vector(doc_words=words, steps=20, alpha=0.025)"
   ]
  },
  {
   "cell_type": "code",
   "execution_count": 0,
   "metadata": {
    "colab": {},
    "colab_type": "code",
    "id": "0H6HCkmvVtBq"
   },
   "outputs": [],
   "source": [
    "from sklearn.svm import LinearSVC\n",
    "clf = LinearSVC()"
   ]
  },
  {
   "cell_type": "code",
   "execution_count": 36,
   "metadata": {
    "colab": {
     "base_uri": "https://localhost:8080/",
     "height": 141
    },
    "colab_type": "code",
    "id": "ZSt8vDZvXPY4",
    "outputId": "5d975dc8-d983-4014-97c1-0dc89ce7232f"
   },
   "outputs": [
    {
     "name": "stderr",
     "output_type": "stream",
     "text": [
      "/usr/local/lib/python3.6/dist-packages/sklearn/svm/base.py:922: ConvergenceWarning: Liblinear failed to converge, increase the number of iterations.\n",
      "  \"the number of iterations.\", ConvergenceWarning)\n"
     ]
    },
    {
     "data": {
      "text/plain": [
       "LinearSVC(C=1.0, class_weight=None, dual=True, fit_intercept=True,\n",
       "     intercept_scaling=1, loss='squared_hinge', max_iter=1000,\n",
       "     multi_class='ovr', penalty='l2', random_state=None, tol=0.0001,\n",
       "     verbose=0)"
      ]
     },
     "execution_count": 36,
     "metadata": {
      "tags": []
     },
     "output_type": "execute_result"
    }
   ],
   "source": [
    "clf.fit(s_train_arrays, s_train_labels)"
   ]
  },
  {
   "cell_type": "code",
   "execution_count": 37,
   "metadata": {
    "colab": {
     "base_uri": "https://localhost:8080/",
     "height": 35
    },
    "colab_type": "code",
    "id": "GeXU8ohoXbHY",
    "outputId": "7b38e3fc-3b87-44a9-ae4c-1f5f7473c0fe"
   },
   "outputs": [
    {
     "data": {
      "text/plain": [
       "0.8358934742530434"
      ]
     },
     "execution_count": 37,
     "metadata": {
      "tags": []
     },
     "output_type": "execute_result"
    }
   ],
   "source": [
    "# training accuracy for svm\n",
    "clf.score(s_train_arrays, s_train_labels)"
   ]
  },
  {
   "cell_type": "code",
   "execution_count": 0,
   "metadata": {
    "colab": {},
    "colab_type": "code",
    "id": "V538DMSQa4mi"
   },
   "outputs": [],
   "source": [
    "total, correct = 0, 0\n",
    "for index, v in enumerate(vec):\n",
    "  score = int(clf.predict(v))\n",
    "  total += 1\n",
    "  if score == sent[index]:\n",
    "    correct += 1"
   ]
  },
  {
   "cell_type": "code",
   "execution_count": 39,
   "metadata": {
    "colab": {
     "base_uri": "https://localhost:8080/",
     "height": 35
    },
    "colab_type": "code",
    "id": "6kzwld3Ra6kt",
    "outputId": "da157f07-1faf-4faf-c0e5-90b86df24919"
   },
   "outputs": [
    {
     "data": {
      "text/plain": [
       "0.79433"
      ]
     },
     "execution_count": 39,
     "metadata": {
      "tags": []
     },
     "output_type": "execute_result"
    }
   ],
   "source": [
    "# testing accuracy for svm\n",
    "correct / total"
   ]
  },
  {
   "cell_type": "code",
   "execution_count": 0,
   "metadata": {
    "colab": {},
    "colab_type": "code",
    "id": "Ptl8QfBwa8Zw"
   },
   "outputs": [],
   "source": []
  }
 ],
 "metadata": {
  "colab": {
   "collapsed_sections": [],
   "name": "DS_Final.ipynb",
   "provenance": [],
   "version": "0.3.2"
  },
  "kernelspec": {
   "display_name": "Python 3",
   "language": "python",
   "name": "python3"
  },
  "language_info": {
   "codemirror_mode": {
    "name": "ipython",
    "version": 3
   },
   "file_extension": ".py",
   "mimetype": "text/x-python",
   "name": "python",
   "nbconvert_exporter": "python",
   "pygments_lexer": "ipython3",
   "version": "3.7.0"
  }
 },
 "nbformat": 4,
 "nbformat_minor": 1
}
